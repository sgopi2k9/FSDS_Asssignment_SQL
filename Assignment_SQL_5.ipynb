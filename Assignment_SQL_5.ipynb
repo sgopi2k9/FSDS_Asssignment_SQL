{
  "nbformat": 4,
  "nbformat_minor": 0,
  "metadata": {
    "colab": {
      "name": "Assignment_SQL_5.ipynb",
      "provenance": []
    },
    "kernelspec": {
      "name": "python3",
      "display_name": "Python 3"
    },
    "language_info": {
      "name": "python"
    }
  },
  "cells": [
    {
      "cell_type": "markdown",
      "source": [
        "Q-1. Write an SQL query to print details of workers excluding first names, “Vipul” and “Satish” from Worker table."
      ],
      "metadata": {
        "id": "tBj_gTmyUdhT"
      }
    },
    {
      "cell_type": "markdown",
      "source": [
        "**Answer**\n",
        "\n",
        "SELECT * FROM Worker WHERE FIRST_NAME NOT IN ('Vipul','Satish');"
      ],
      "metadata": {
        "id": "_hh3t3ULUmU2"
      }
    },
    {
      "cell_type": "markdown",
      "source": [
        "Q-2. Write an SQL query to print details of the Workers whose FIRST_NAME ends with ‘h’ and contains six alphabets."
      ],
      "metadata": {
        "id": "9dLZhuVJUmhO"
      }
    },
    {
      "cell_type": "markdown",
      "source": [
        "**Answer**\n",
        "\n",
        "SELECT * FROM Worker WHERE FIRST_NAME LIKE '______h';"
      ],
      "metadata": {
        "id": "wZWIQcOVUokU"
      }
    },
    {
      "cell_type": "markdown",
      "source": [
        "Q-3. Write a query to validate Email of Employee.\n"
      ],
      "metadata": {
        "id": "MJb3aqsDUov1"
      }
    },
    {
      "cell_type": "markdown",
      "source": [
        "**Answer**\n",
        "\n",
        "SELECT * FROM Worker WHERE email LIKE \"_%@_%._%\""
      ],
      "metadata": {
        "id": "MAUVp0RnUrVi"
      }
    }
  ]
}