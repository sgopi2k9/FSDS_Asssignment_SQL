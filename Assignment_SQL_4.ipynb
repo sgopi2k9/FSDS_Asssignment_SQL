{
  "nbformat": 4,
  "nbformat_minor": 0,
  "metadata": {
    "colab": {
      "name": "Assignment_SQL_4.ipynb",
      "provenance": []
    },
    "kernelspec": {
      "name": "python3",
      "display_name": "Python 3"
    },
    "language_info": {
      "name": "python"
    }
  },
  "cells": [
    {
      "cell_type": "markdown",
      "source": [
        "Q-1. Write an SQL query to print the FIRST_NAME from Worker table after replacing ‘a’\n",
        "with ‘A’."
      ],
      "metadata": {
        "id": "ti87wZmcMRhp"
      }
    },
    {
      "cell_type": "markdown",
      "source": [
        "**Answer**\n",
        "\n",
        "Select replace(FIRST_NAME,'a','A') from worker"
      ],
      "metadata": {
        "id": "Gp3xllegMS46"
      }
    },
    {
      "cell_type": "markdown",
      "source": [
        "Q-2. Write an SQL query to print all Worker details from the Worker table order by\n",
        "FIRST_NAME Ascending and DEPARTMENT Descending."
      ],
      "metadata": {
        "id": "RYvf9QlJMTJj"
      }
    },
    {
      "cell_type": "markdown",
      "source": [
        "**Answer**\n",
        "\n",
        "select * from worker order by FIRST_NAME asc , DEPARTMENT desc"
      ],
      "metadata": {
        "id": "sX_R570aMTbs"
      }
    },
    {
      "cell_type": "markdown",
      "source": [
        "Q-3. Write an SQL query to fetch the names of workers who earn the highest salary."
      ],
      "metadata": {
        "id": "HrM8D47CMWe9"
      }
    },
    {
      "cell_type": "markdown",
      "source": [
        "**Answer**\n",
        "\n",
        "Select name,max(Salary) from worker"
      ],
      "metadata": {
        "id": "OFlwkAO8MZVX"
      }
    }
  ]
}