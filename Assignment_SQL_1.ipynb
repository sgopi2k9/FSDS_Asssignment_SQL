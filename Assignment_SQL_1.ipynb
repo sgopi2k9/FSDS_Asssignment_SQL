{
  "nbformat": 4,
  "nbformat_minor": 0,
  "metadata": {
    "colab": {
      "name": "Assignment_SQL_1.ipynb",
      "provenance": []
    },
    "kernelspec": {
      "name": "python3",
      "display_name": "Python 3"
    },
    "language_info": {
      "name": "python"
    }
  },
  "cells": [
    {
      "cell_type": "markdown",
      "source": [
        "Q-1. Write an SQL query to fetch “FIRST_NAME” from Worker table using the alias\n",
        "name as &lt;WORKER_NAME&gt;."
      ],
      "metadata": {
        "id": "Zf54CSE5MeE-"
      }
    },
    {
      "cell_type": "markdown",
      "source": [
        "**Answer**\n",
        "\n",
        "select FIRST_NAME as WORKER_NAME from worker"
      ],
      "metadata": {
        "id": "y6LHVlfbMg6D"
      }
    },
    {
      "cell_type": "markdown",
      "source": [
        "Q-2. Write an SQL query to fetch unique values of DEPARTMENT from Worker table."
      ],
      "metadata": {
        "id": "DeWdzcXjMnXz"
      }
    },
    {
      "cell_type": "markdown",
      "source": [
        "**Answer**\n",
        "\n",
        "select distinct(DEPARTMENT) from worker"
      ],
      "metadata": {
        "id": "FVaHHa42Mqi3"
      }
    },
    {
      "cell_type": "markdown",
      "source": [
        "Q-3. Write an SQL query to show the last 5 record from a table."
      ],
      "metadata": {
        "id": "vLWLyeRXMyzo"
      }
    },
    {
      "cell_type": "markdown",
      "source": [
        "**Answer**\n",
        "\n",
        "select top 5 * from worker order by ID desc"
      ],
      "metadata": {
        "id": "3Qpaqb-nM1h0"
      }
    }
  ]
}