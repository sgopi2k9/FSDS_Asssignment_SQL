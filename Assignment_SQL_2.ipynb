{
  "nbformat": 4,
  "nbformat_minor": 0,
  "metadata": {
    "colab": {
      "name": "Assignment_SQL_2.ipynb",
      "provenance": []
    },
    "kernelspec": {
      "name": "python3",
      "display_name": "Python 3"
    },
    "language_info": {
      "name": "python"
    }
  },
  "cells": [
    {
      "cell_type": "markdown",
      "source": [
        "Q-1. Write an SQL query to print the first three characters of  FIRST_NAME from Worker table."
      ],
      "metadata": {
        "id": "z_nNACgGNrVT"
      }
    },
    {
      "cell_type": "markdown",
      "source": [
        "**Answer**\n",
        "\n",
        "select SUBSTRING(FIRST_NAME,1,3) from worker"
      ],
      "metadata": {
        "id": "cHAl9H2sNwXQ"
      }
    },
    {
      "cell_type": "markdown",
      "source": [
        "Q-2. Write an SQL query to find the position of the alphabet (‘a’) in the first name\n",
        "column ‘Amitabh’ from Worker table."
      ],
      "metadata": {
        "id": "1OeIPITaN7ab"
      }
    },
    {
      "cell_type": "markdown",
      "source": [
        "**Answer**\n",
        "\n",
        "SELECT POSITION(\"a\" IN FIRST_NAME) FROM worker;"
      ],
      "metadata": {
        "id": "RGKmHh-RN-Gs"
      }
    },
    {
      "cell_type": "markdown",
      "source": [
        "Q-3. Write an SQL query to print the name of employees having the highest salary in each\n",
        "department."
      ],
      "metadata": {
        "id": "G7vWjIqnOUy6"
      }
    },
    {
      "cell_type": "markdown",
      "source": [
        "**Answer**\n",
        "\n",
        "select NAME,MAX(Salary),Department from worker group by DEPARTMENT"
      ],
      "metadata": {
        "id": "TACJp1K7OXIu"
      }
    }
  ]
}