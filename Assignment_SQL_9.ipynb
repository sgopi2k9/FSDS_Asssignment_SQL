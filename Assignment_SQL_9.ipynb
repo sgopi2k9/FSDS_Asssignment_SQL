{
  "nbformat": 4,
  "nbformat_minor": 0,
  "metadata": {
    "colab": {
      "name": "Assignment_SQL_9.ipynb",
      "provenance": []
    },
    "kernelspec": {
      "name": "python3",
      "display_name": "Python 3"
    },
    "language_info": {
      "name": "python"
    }
  },
  "cells": [
    {
      "cell_type": "markdown",
      "source": [
        "Q-17.  Write an SQL query to show the top n (say 10) records of a table."
      ],
      "metadata": {
        "id": "Jtw_DofjEWeB"
      }
    },
    {
      "cell_type": "markdown",
      "source": [
        "**Answer**\n",
        "\n",
        "select * from table limit 10\n",
        "\n",
        "or\n",
        "\n",
        "select top 10 * from table"
      ],
      "metadata": {
        "id": "ld4rQ9SSEZe1"
      }
    },
    {
      "cell_type": "markdown",
      "source": [
        "Q-18. Write an SQL query to determine the nth (say n=5) highest salary from a table."
      ],
      "metadata": {
        "id": "i3Vjh345EZqH"
      }
    },
    {
      "cell_type": "markdown",
      "source": [
        "**Answer**\n",
        "\n",
        "select max(salary) from table limit 1 offset 5"
      ],
      "metadata": {
        "id": "PL5cQTgLEcIq"
      }
    }
  ]
}