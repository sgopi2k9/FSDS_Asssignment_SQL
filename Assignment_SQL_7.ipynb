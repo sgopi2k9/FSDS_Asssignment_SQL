{
  "nbformat": 4,
  "nbformat_minor": 0,
  "metadata": {
    "colab": {
      "name": "Assignment_SQL_7.ipynb",
      "provenance": []
    },
    "kernelspec": {
      "name": "python3",
      "display_name": "Python 3"
    },
    "language_info": {
      "name": "python"
    }
  },
  "cells": [
    {
      "cell_type": "markdown",
      "source": [
        "Q-13. Write an SQL query to show only odd rows from a table."
      ],
      "metadata": {
        "id": "plt-dhb4BUay"
      }
    },
    {
      "cell_type": "markdown",
      "source": [
        "**Answer**\n",
        "\n",
        "select * from table_name where ID in (\n",
        "select ID from table_name where ID%2=1)"
      ],
      "metadata": {
        "id": "eU94FaxEBg7f"
      }
    },
    {
      "cell_type": "markdown",
      "source": [
        "Q-14. Write an SQL query to clone a new table from another table."
      ],
      "metadata": {
        "id": "fPmnwoDNBmlT"
      }
    },
    {
      "cell_type": "markdown",
      "source": [
        "**Answer**\n",
        "\n",
        "INSERT INTO clone_tbl (id,col1,col2)\n",
        "SELECT id,col1,col2 FROM tbl;"
      ],
      "metadata": {
        "id": "zcxHTLGrCDX_"
      }
    }
  ]
}