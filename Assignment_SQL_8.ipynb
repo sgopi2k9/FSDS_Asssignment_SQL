{
  "nbformat": 4,
  "nbformat_minor": 0,
  "metadata": {
    "colab": {
      "name": "Assignment_SQL_8.ipynb",
      "provenance": []
    },
    "kernelspec": {
      "name": "python3",
      "display_name": "Python 3"
    },
    "language_info": {
      "name": "python"
    }
  },
  "cells": [
    {
      "cell_type": "markdown",
      "source": [
        "Q-15. Write an SQL query to fetch intersecting records of two tables."
      ],
      "metadata": {
        "id": "e25J2HajDH-X"
      }
    },
    {
      "cell_type": "markdown",
      "source": [
        "**Answer**\n",
        "\n",
        "select t1.col1,t2.col2\n",
        "\n",
        "from table1 t1\n",
        "\n",
        "inner join table2 t2\n",
        "\n",
        "on t1.id=t2.id\n",
        "\n",
        "or\n",
        "\n",
        "SELECT <Column_names> FROM table_1 INTERSECT SELECT <Column_names> FROM table_2;"
      ],
      "metadata": {
        "id": "npOqUTkgDKV5"
      }
    },
    {
      "cell_type": "markdown",
      "source": [
        "Q-16. Write an SQL query to show records from one table that another table does not have.\n"
      ],
      "metadata": {
        "id": "E9n2jWKHDKgW"
      }
    },
    {
      "cell_type": "markdown",
      "source": [
        "**Answer**\n",
        "\n",
        "SELECT * FROM table_1 EXCEPT SELECT * FROM table_2;"
      ],
      "metadata": {
        "id": "gzQv8GgQDNO5"
      }
    }
  ]
}