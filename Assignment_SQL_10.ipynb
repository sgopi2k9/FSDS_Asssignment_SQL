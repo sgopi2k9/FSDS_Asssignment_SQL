{
  "nbformat": 4,
  "nbformat_minor": 0,
  "metadata": {
    "colab": {
      "name": "Assignment_SQL_10.ipynb",
      "provenance": []
    },
    "kernelspec": {
      "name": "python3",
      "display_name": "Python 3"
    },
    "language_info": {
      "name": "python"
    }
  },
  "cells": [
    {
      "cell_type": "markdown",
      "source": [
        "Q-19. Write an SQL query to determine the 5th highest salary without using TOP or limit method."
      ],
      "metadata": {
        "id": "P-rJWm1bFJ5z"
      }
    },
    {
      "cell_type": "markdown",
      "source": [
        "**Answer**\n",
        "\n",
        "SELECT * FROM (SELECT ROW_NUMBER() OVER (ORDER BY salary DESC) AS R_NUM, first_name, salary FROM employee) as HEllO WHERE R_NUM=5;"
      ],
      "metadata": {
        "id": "VmUXi08XFKxL"
      }
    },
    {
      "cell_type": "markdown",
      "source": [
        "Q-20. Write an SQL query to fetch the list of employees with the same salary."
      ],
      "metadata": {
        "id": "xSgOjfksFK8P"
      }
    },
    {
      "cell_type": "markdown",
      "source": [
        "**Answer**\n",
        "\n",
        "SELECT s1.Name, s1.Salary\n",
        "FROM employees s1\n",
        "INNER JOIN employees s2 ON s1.Salary = s2.Salary AND s1.Name <> s2.Name"
      ],
      "metadata": {
        "id": "t-hhkNU1FOHE"
      }
    }
  ]
}