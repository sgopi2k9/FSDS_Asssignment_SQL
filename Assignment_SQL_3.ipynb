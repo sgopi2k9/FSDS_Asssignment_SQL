{
  "nbformat": 4,
  "nbformat_minor": 0,
  "metadata": {
    "colab": {
      "name": "Assignment_SQL_3.ipynb",
      "provenance": [],
      "collapsed_sections": []
    },
    "kernelspec": {
      "name": "python3",
      "display_name": "Python 3"
    },
    "language_info": {
      "name": "python"
    }
  },
  "cells": [
    {
      "cell_type": "markdown",
      "source": [
        "Q-1. Write an SQL query to print the FIRST_NAME from Worker table after removing\n",
        "white spaces from the right side."
      ],
      "metadata": {
        "id": "SZ27Bw1sH91h"
      }
    },
    {
      "cell_type": "markdown",
      "source": [
        "select RTRIM(FIRST_NAME,\" \") from worker"
      ],
      "metadata": {
        "id": "Kampb23TH_wu"
      }
    },
    {
      "cell_type": "markdown",
      "source": [
        "Q-2. Write an SQL query that fetches the unique values of DEPARTMENT from Worker\n",
        "table and prints its length."
      ],
      "metadata": {
        "id": "HjChbOXpH_8u"
      }
    },
    {
      "cell_type": "markdown",
      "source": [
        "select DISTINCT(DEPARTMENT),LENGTH(DEPARTMENT) as \"Length\" from worker group by DEPARTMENT"
      ],
      "metadata": {
        "id": "NH864ywxICCy"
      }
    },
    {
      "cell_type": "markdown",
      "source": [
        "Q-3. Write an SQL query to fetch nth max salaries from a table."
      ],
      "metadata": {
        "id": "OhHifyilICQG"
      }
    },
    {
      "cell_type": "markdown",
      "source": [
        "SELECT * \n",
        "FROM worker\n",
        "ORDER BY salary DESC\n",
        "LIMIT 1 \n",
        "OFFSET n;\n"
      ],
      "metadata": {
        "id": "a1CMworKIE3b"
      }
    }
  ]
}