{
  "nbformat": 4,
  "nbformat_minor": 0,
  "metadata": {
    "colab": {
      "name": "Assignment_SQL_6.ipynb",
      "provenance": []
    },
    "kernelspec": {
      "name": "python3",
      "display_name": "Python 3"
    },
    "language_info": {
      "name": "python"
    }
  },
  "cells": [
    {
      "cell_type": "markdown",
      "source": [
        "Q-1. Write an SQL query to print details of the Workers who have joined in Feb’2014."
      ],
      "metadata": {
        "id": "j_26ZMHt_Lyk"
      }
    },
    {
      "cell_type": "markdown",
      "source": [
        "SELECT * FROM Worker WHERE YEAR(JOINING_DATE) = 2014 AND MONTH(JOINING_DATE) = 02;"
      ],
      "metadata": {
        "id": "xanhUR5Q_Ojp"
      }
    },
    {
      "cell_type": "markdown",
      "source": [
        "Q-2. Write an SQL query to fetch duplicate records having matching data in some fields of a table."
      ],
      "metadata": {
        "id": "UdMXpURv_Ouk"
      }
    },
    {
      "cell_type": "markdown",
      "source": [
        "**Answer**\n",
        "\n",
        "select columnname from table group by columname having count(columnname)>1"
      ],
      "metadata": {
        "id": "33xThMwV_SQd"
      }
    },
    {
      "cell_type": "markdown",
      "source": [
        "Q-3. How to remove duplicate rows from Employees table."
      ],
      "metadata": {
        "id": "_nNOFkbk_SZ4"
      }
    },
    {
      "cell_type": "markdown",
      "source": [
        "**Answer**\n",
        "\n",
        "DELETE t1 FROM Employees t1  \n",
        "INNERJOIN Employees t2   \n",
        "WHERE  \n",
        "    t1.id < t2.id AND  \n",
        "    t1.firstname = t2.firstname AND\n",
        "    t1.lastname = t2.lastname; "
      ],
      "metadata": {
        "id": "SrDtT1OX_U12"
      }
    }
  ]
}